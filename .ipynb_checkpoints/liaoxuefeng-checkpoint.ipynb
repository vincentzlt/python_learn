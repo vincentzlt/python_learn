{
 "cells": [
  {
   "cell_type": "code",
   "execution_count": 13,
   "metadata": {
    "collapsed": true
   },
   "outputs": [],
   "source": [
    "class Chain(object):\n",
    "\n",
    "    def __init__(self, path=''):\n",
    "        self._path = path\n",
    "    def users(self, user_name):\n",
    "        return Chain('/users/:{}'.format(user_name))\n",
    "    def __getattr__(self,path):\n",
    "        return Chain('{}/{}'.format(self._path,path))\n",
    "    def __str__(self):\n",
    "        return self._path\n",
    "    def __repr__(self):\n",
    "        return self._path"
   ]
  },
  {
   "cell_type": "code",
   "execution_count": 14,
   "metadata": {
    "collapsed": false
   },
   "outputs": [
    {
     "data": {
      "text/plain": [
       "/status/user/timeline/list"
      ]
     },
     "execution_count": 14,
     "metadata": {},
     "output_type": "execute_result"
    }
   ],
   "source": [
    "Chain().status.user.timeline.list"
   ]
  },
  {
   "cell_type": "code",
   "execution_count": 15,
   "metadata": {
    "collapsed": false
   },
   "outputs": [
    {
     "data": {
      "text/plain": [
       "/users/:michael/repos"
      ]
     },
     "execution_count": 15,
     "metadata": {},
     "output_type": "execute_result"
    }
   ],
   "source": [
    "Chain().users('michael').repos"
   ]
  },
  {
   "cell_type": "code",
   "execution_count": 26,
   "metadata": {
    "collapsed": false
   },
   "outputs": [
    {
     "name": "stdout",
     "output_type": "stream",
     "text": [
      "Status: 200 OK\n",
      "Date: Fri, 17 Feb 2017 15:05:09 GMT\n",
      "\n",
      "Content-Type: application/json; charset=utf-8\n",
      "\n",
      "Content-Length: 2055\n",
      "\n",
      "Connection: close\n",
      "\n",
      "Vary: Accept-Encoding\n",
      "\n",
      "X-Ratelimit-Remaining2: 95\n",
      "\n",
      "X-Ratelimit-Limit2: 100\n",
      "\n",
      "Expires: Sun, 1 Jan 2006 01:00:00 GMT\n",
      "\n",
      "Pragma: no-cache\n",
      "\n",
      "Cache-Control: must-revalidate, no-cache, private\n",
      "\n",
      "Set-Cookie: bid=8t7bF6MAqjk; Expires=Sat, 17-Feb-18 15:05:09 GMT; Domain=.douban.com; Path=/\n",
      "\n",
      "X-DOUBAN-NEWBID: 8t7bF6MAqjk\n",
      "\n",
      "X-DAE-Node: daisy3c\n",
      "\n",
      "X-DAE-App: book\n",
      "\n",
      "Server: dae\n",
      "\n",
      "Data:\n",
      "\n",
      "{'alt': 'https://book.douban.com/subject/2129650/',\n",
      " 'alt_title': '',\n",
      " 'author': ['廖雪峰编著'],\n",
      " 'author_intro': '',\n",
      " 'binding': '',\n",
      " 'catalog': '',\n",
      " 'id': '2129650',\n",
      " 'image': 'https://img3.doubanio.com/mpic/s2648230.jpg',\n",
      " 'images': {'large': 'https://img3.doubanio.com/lpic/s2648230.jpg',\n",
      "            'medium': 'https://img3.doubanio.com/mpic/s2648230.jpg',\n",
      "            'small': 'https://img3.doubanio.com/spic/s2648230.jpg'},\n",
      " 'isbn10': '7121042622',\n",
      " 'isbn13': '9787121042621',\n",
      " 'origin_title': '',\n",
      " 'pages': '509',\n",
      " 'price': '59.80元',\n",
      " 'pubdate': '2007-6',\n",
      " 'publisher': '电子工业',\n",
      " 'rating': {'average': '7.4', 'max': 10, 'min': 0, 'numRaters': 16},\n",
      " 'subtitle': '',\n",
      " 'summary': '本书注重实践而又深入理论，由浅入深且详细介绍了Spring '\n",
      "            '2.0框架的几乎全部的内容，并重点突出2.0版本的新特性。本书将为读者展示如何应用Spring '\n",
      "            '2.0框架创建灵活高效的JavaEE应用，并提供了一个真正可直接部署的完整的Web应用程序——Live在线书店(http://www.livebookstore.net)。\\n'\n",
      "            '在介绍Spring框架的同时，本书还介绍了与Spring相关的大量第三方框架，涉及领域全面，实用性强。本书另一大特色是实用性强，易于上手，以实际项目为出发点，介绍项目开发中应遵循的最佳开发模式。\\n'\n",
      "            '本书还介绍了大量实践性极强的例子，并给出了完整的配置步骤，几乎覆盖了Spring 2.0版本的新特性。\\n'\n",
      "            '本书适合有一定Java基础的读者，对JavaEE开发人员特别有帮助。本书既可以作为Spring '\n",
      "            '2.0的学习指南，也可以作为实际项目开发的参考手册。',\n",
      " 'tags': [{'count': 20, 'name': 'spring', 'title': 'spring'},\n",
      "          {'count': 11, 'name': 'Java', 'title': 'Java'},\n",
      "          {'count': 6, 'name': 'javaee', 'title': 'javaee'},\n",
      "          {'count': 4, 'name': 'j2ee', 'title': 'j2ee'},\n",
      "          {'count': 3, 'name': 'POJO', 'title': 'POJO'},\n",
      "          {'count': 3, 'name': '计算机', 'title': '计算机'},\n",
      "          {'count': 3, 'name': '藏书', 'title': '藏书'},\n",
      "          {'count': 3, 'name': '编程', 'title': '编程'}],\n",
      " 'title': 'Spring 2.0核心技术与最佳实践',\n",
      " 'translator': [],\n",
      " 'url': 'https://api.douban.com/v2/book/2129650'}\n"
     ]
    }
   ],
   "source": [
    "from urllib import request\n",
    "from pprint import pprint\n",
    "import json\n",
    "\n",
    "with request.urlopen('https://api.douban.com/v2/book/2129650') as f:\n",
    "    data = f.read()\n",
    "    print('Status:', f.status, f.reason)\n",
    "    for k, v in f.getheaders():\n",
    "        print('%s: %s\\n' % (k, v))\n",
    "    print('Data:\\n')\n",
    "    pprint(json.loads(data.decode('utf-8')))\n",
    "\n"
   ]
  },
  {
   "cell_type": "code",
   "execution_count": 19,
   "metadata": {
    "collapsed": true
   },
   "outputs": [],
   "source": [
    "from tkinter import *\n",
    "class Application(Frame):\n",
    "    def __init__(self, master=None):\n",
    "        Frame.__init__(self, master)\n",
    "        self.pack()\n",
    "        self.createWidgets()\n",
    "\n",
    "    def createWidgets(self):\n",
    "        self.helloLabel = Label(self, text='Hello, world!')\n",
    "        self.helloLabel.pack()\n",
    "        self.quitButton = Button(self, text='Quit', command=self.quit)\n",
    "        self.quitButton.pack()\n",
    "app=Application()\n",
    "app.master.title('Hello World')\n",
    "app.mainloop()"
   ]
  }
 ],
 "metadata": {
  "kernelspec": {
   "display_name": "Python 3",
   "language": "python",
   "name": "python3"
  },
  "language_info": {
   "codemirror_mode": {
    "name": "ipython",
    "version": 3
   },
   "file_extension": ".py",
   "mimetype": "text/x-python",
   "name": "python",
   "nbconvert_exporter": "python",
   "pygments_lexer": "ipython3",
   "version": "3.6.0"
  }
 },
 "nbformat": 4,
 "nbformat_minor": 2
}
