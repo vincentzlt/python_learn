{
 "cells": [
  {
   "cell_type": "markdown",
   "metadata": {
    "deletable": true,
    "editable": true
   },
   "source": [
    "# 【翻译】12步理解Python Decorators\n",
    "[gitbook](https://www.gitbook.com/book/harveyqing/python-read-and-write/details) [参考](http://www.jianshu.com/p/250f0d305c35)"
   ]
  },
  {
   "cell_type": "markdown",
   "metadata": {
    "deletable": true,
    "editable": true
   },
   "source": [
    "## 1. 函数"
   ]
  },
  {
   "cell_type": "code",
   "execution_count": 1,
   "metadata": {
    "collapsed": false,
    "deletable": true,
    "editable": true
   },
   "outputs": [
    {
     "data": {
      "text/plain": [
       "1"
      ]
     },
     "execution_count": 1,
     "metadata": {},
     "output_type": "execute_result"
    }
   ],
   "source": [
    "def foo():\n",
    "    return 1\n",
    "foo()"
   ]
  },
  {
   "cell_type": "markdown",
   "metadata": {
    "deletable": true,
    "editable": true
   },
   "source": [
    "## 2. 作用范围"
   ]
  },
  {
   "cell_type": "code",
   "execution_count": 2,
   "metadata": {
    "collapsed": false,
    "deletable": true,
    "editable": true
   },
   "outputs": [
    {
     "name": "stdout",
     "output_type": "stream",
     "text": [
      "{'In': ['',\n",
      "        'from pprint import pprint\\n'\n",
      "        \"a_string='This is a global variable.'\\n\"\n",
      "        'def foo_1():\\n'\n",
      "        '    print(locals())\\n'\n",
      "        'print(globals())',\n",
      "        'from pprint import pprint\\n'\n",
      "        \"a_string='This is a global variable.'\\n\"\n",
      "        'def foo_1():\\n'\n",
      "        '    print(locals())\\n'\n",
      "        'pprint(globals())'],\n",
      " 'Out': {},\n",
      " '_': '',\n",
      " '__': '',\n",
      " '___': '',\n",
      " '__builtin__': <module 'builtins' (built-in)>,\n",
      " '__builtins__': <module 'builtins' (built-in)>,\n",
      " '__doc__': 'Automatically created module for IPython interactive environment',\n",
      " '__loader__': None,\n",
      " '__name__': '__main__',\n",
      " '__package__': None,\n",
      " '__spec__': None,\n",
      " '_dh': ['/Users/zhanglongtu/programming_study/python_learn'],\n",
      " '_i': 'from pprint import pprint\\n'\n",
      "       \"a_string='This is a global variable.'\\n\"\n",
      "       'def foo_1():\\n'\n",
      "       '    print(locals())\\n'\n",
      "       'print(globals())',\n",
      " '_i1': 'from pprint import pprint\\n'\n",
      "        \"a_string='This is a global variable.'\\n\"\n",
      "        'def foo_1():\\n'\n",
      "        '    print(locals())\\n'\n",
      "        'print(globals())',\n",
      " '_i2': 'from pprint import pprint\\n'\n",
      "        \"a_string='This is a global variable.'\\n\"\n",
      "        'def foo_1():\\n'\n",
      "        '    print(locals())\\n'\n",
      "        'pprint(globals())',\n",
      " '_ih': ['',\n",
      "         'from pprint import pprint\\n'\n",
      "         \"a_string='This is a global variable.'\\n\"\n",
      "         'def foo_1():\\n'\n",
      "         '    print(locals())\\n'\n",
      "         'print(globals())',\n",
      "         'from pprint import pprint\\n'\n",
      "         \"a_string='This is a global variable.'\\n\"\n",
      "         'def foo_1():\\n'\n",
      "         '    print(locals())\\n'\n",
      "         'pprint(globals())'],\n",
      " '_ii': '',\n",
      " '_iii': '',\n",
      " '_oh': {},\n",
      " '_sh': <module 'IPython.core.shadowns' from '/usr/local/lib/python3.6/site-packages/IPython/core/shadowns.py'>,\n",
      " 'a_string': 'This is a global variable.',\n",
      " 'exit': <IPython.core.autocall.ZMQExitAutocall object at 0x10e4afd68>,\n",
      " 'foo_1': <function foo_1 at 0x10e58f268>,\n",
      " 'get_ipython': <bound method InteractiveShell.get_ipython of <ipykernel.zmqshell.ZMQInteractiveShell object at 0x10e4695f8>>,\n",
      " 'pprint': <function pprint at 0x10d1d0488>,\n",
      " 'quit': <IPython.core.autocall.ZMQExitAutocall object at 0x10e4afd68>}\n"
     ]
    }
   ],
   "source": [
    "from pprint import pprint\n",
    "a_string='This is a global variable.'\n",
    "def foo_1():\n",
    "    print(locals())\n",
    "pprint(globals())"
   ]
  },
  {
   "cell_type": "code",
   "execution_count": 4,
   "metadata": {
    "collapsed": false,
    "deletable": true,
    "editable": true
   },
   "outputs": [
    {
     "name": "stdout",
     "output_type": "stream",
     "text": [
      "{}\n"
     ]
    }
   ],
   "source": [
    "foo_1()"
   ]
  },
  {
   "cell_type": "markdown",
   "metadata": {
    "deletable": true,
    "editable": true
   },
   "source": [
    "## 3. 变量解析规则"
   ]
  },
  {
   "cell_type": "markdown",
   "metadata": {
    "deletable": true,
    "editable": true
   },
   "source": [
    "1. 本地\n",
    "2. 相邻\n",
    "3. 全局"
   ]
  },
  {
   "cell_type": "code",
   "execution_count": 5,
   "metadata": {
    "collapsed": false,
    "deletable": true,
    "editable": true
   },
   "outputs": [
    {
     "name": "stdout",
     "output_type": "stream",
     "text": [
      "This is a global variable.\n"
     ]
    }
   ],
   "source": [
    "def foo_3():\n",
    "    print(a_string)\n",
    "foo_3()"
   ]
  },
  {
   "cell_type": "markdown",
   "metadata": {
    "deletable": true,
    "editable": true
   },
   "source": [
    "本地函数不能给全局变量赋值，所赋值的变量是本地变量，且覆盖全局变量。"
   ]
  },
  {
   "cell_type": "code",
   "execution_count": 7,
   "metadata": {
    "collapsed": false,
    "deletable": true,
    "editable": true
   },
   "outputs": [
    {
     "name": "stdout",
     "output_type": "stream",
     "text": [
      "{'a_string': 'test'}\n",
      "This is a global variable.\n"
     ]
    }
   ],
   "source": [
    "def foo_3_1():\n",
    "    a_string='test'\n",
    "    print(locals())\n",
    "\n",
    "foo_3_1()\n",
    "print(a_string)"
   ]
  },
  {
   "cell_type": "markdown",
   "metadata": {
    "deletable": true,
    "editable": true
   },
   "source": [
    "## 4. 变量生命周期"
   ]
  },
  {
   "cell_type": "code",
   "execution_count": 3,
   "metadata": {
    "collapsed": false,
    "deletable": true,
    "editable": true
   },
   "outputs": [
    {
     "ename": "SyntaxError",
     "evalue": "Missing parentheses in call to 'print' (<ipython-input-3-0b88c67a6a87>, line 4)",
     "output_type": "error",
     "traceback": [
      "\u001b[0;36m  File \u001b[0;32m\"<ipython-input-3-0b88c67a6a87>\"\u001b[0;36m, line \u001b[0;32m4\u001b[0m\n\u001b[0;31m    print x\u001b[0m\n\u001b[0m          ^\u001b[0m\n\u001b[0;31mSyntaxError\u001b[0m\u001b[0;31m:\u001b[0m Missing parentheses in call to 'print'\n"
     ]
    }
   ],
   "source": [
    "def foo_():\n",
    "    x=1\n",
    "foo_4()\n",
    "print x"
   ]
  },
  {
   "cell_type": "markdown",
   "metadata": {
    "deletable": true,
    "editable": true
   },
   "source": [
    "## 5. 函数的参数"
   ]
  },
  {
   "cell_type": "markdown",
   "metadata": {
    "deletable": true,
    "editable": true
   },
   "source": [
    "各种传递参数的方法。"
   ]
  },
  {
   "cell_type": "code",
   "execution_count": 7,
   "metadata": {
    "collapsed": false,
    "deletable": true,
    "editable": true
   },
   "outputs": [
    {
     "name": "stdout",
     "output_type": "stream",
     "text": [
      "2\n",
      "3\n",
      "error on this step\n",
      "2\n"
     ]
    }
   ],
   "source": [
    "def foo_5(x,y=0):\n",
    "    return x-y\n",
    "try:\n",
    "    print(foo_5(3,1))\n",
    "    print(foo_5(3))\n",
    "    print(foo_5())\n",
    "\n",
    "except:\n",
    "    print('error on this step')\n",
    "    \n",
    "print(foo_5(y=1,x=3))"
   ]
  },
  {
   "cell_type": "markdown",
   "metadata": {
    "collapsed": true,
    "deletable": true,
    "editable": true
   },
   "source": [
    "## 6. 函数的嵌套"
   ]
  },
  {
   "cell_type": "code",
   "execution_count": 8,
   "metadata": {
    "collapsed": false,
    "deletable": true,
    "editable": true
   },
   "outputs": [
    {
     "name": "stdout",
     "output_type": "stream",
     "text": [
      "1\n"
     ]
    }
   ],
   "source": [
    "def outer():\n",
    "    x=1\n",
    "    def inner():\n",
    "        print(x)\n",
    "    inner()\n",
    "outer()"
   ]
  },
  {
   "cell_type": "markdown",
   "metadata": {
    "deletable": true,
    "editable": true
   },
   "source": [
    "## 7. 函数在python里面首先是对象"
   ]
  },
  {
   "cell_type": "code",
   "execution_count": 9,
   "metadata": {
    "collapsed": false,
    "deletable": true,
    "editable": true
   },
   "outputs": [
    {
     "data": {
      "text/plain": [
       "True"
      ]
     },
     "execution_count": 9,
     "metadata": {},
     "output_type": "execute_result"
    }
   ],
   "source": [
    "issubclass(int,object)"
   ]
  },
  {
   "cell_type": "code",
   "execution_count": 19,
   "metadata": {
    "collapsed": false,
    "deletable": true,
    "editable": true
   },
   "outputs": [
    {
     "data": {
      "text/plain": [
       "type"
      ]
     },
     "execution_count": 19,
     "metadata": {},
     "output_type": "execute_result"
    }
   ],
   "source": [
    "def foo_7():\n",
    "    pass\n",
    "\n",
    "\n",
    "type(foo_7.__class__)"
   ]
  },
  {
   "cell_type": "code",
   "execution_count": 22,
   "metadata": {
    "collapsed": false,
    "deletable": true,
    "editable": true
   },
   "outputs": [
    {
     "data": {
      "text/plain": [
       "True"
      ]
     },
     "execution_count": 22,
     "metadata": {},
     "output_type": "execute_result"
    }
   ],
   "source": [
    "f=foo_7\n",
    "isinstance(f(),object)"
   ]
  },
  {
   "cell_type": "code",
   "execution_count": 23,
   "metadata": {
    "collapsed": false,
    "deletable": true,
    "editable": true
   },
   "outputs": [
    {
     "data": {
      "text/plain": [
       "3"
      ]
     },
     "execution_count": 23,
     "metadata": {},
     "output_type": "execute_result"
    }
   ],
   "source": [
    "def add(x,y):\n",
    "    return x+y\n",
    "def sub(x,y):\n",
    "    return x-y\n",
    "def apply(func,x,y):\n",
    "    return func(x,y)\n",
    "\n",
    "apply(add,2,1)"
   ]
  },
  {
   "cell_type": "code",
   "execution_count": 24,
   "metadata": {
    "collapsed": false,
    "deletable": true,
    "editable": true
   },
   "outputs": [
    {
     "data": {
      "text/plain": [
       "1"
      ]
     },
     "execution_count": 24,
     "metadata": {},
     "output_type": "execute_result"
    }
   ],
   "source": [
    "apply(sub,2,1)"
   ]
  },
  {
   "cell_type": "code",
   "execution_count": 26,
   "metadata": {
    "collapsed": false,
    "deletable": true,
    "editable": true
   },
   "outputs": [
    {
     "data": {
      "text/plain": [
       "<function __main__.outer.<locals>.inner>"
      ]
     },
     "execution_count": 26,
     "metadata": {},
     "output_type": "execute_result"
    }
   ],
   "source": [
    "def outer():\n",
    "    def inner():\n",
    "        print('inside inner')\n",
    "    return inner\n",
    "\n",
    "foo_7_1=outer()\n",
    "foo_7_1"
   ]
  },
  {
   "cell_type": "code",
   "execution_count": 27,
   "metadata": {
    "collapsed": false,
    "deletable": true,
    "editable": true
   },
   "outputs": [
    {
     "name": "stdout",
     "output_type": "stream",
     "text": [
      "inside inner\n"
     ]
    }
   ],
   "source": [
    "foo_7_1()"
   ]
  },
  {
   "cell_type": "markdown",
   "metadata": {
    "deletable": true,
    "editable": true
   },
   "source": [
    "## 8. 闭包"
   ]
  },
  {
   "cell_type": "code",
   "execution_count": 33,
   "metadata": {
    "collapsed": false,
    "deletable": true,
    "editable": true
   },
   "outputs": [
    {
     "data": {
      "text/plain": [
       "(<cell at 0x10e549fd8: int object at 0x10c8649f0>,)"
      ]
     },
     "execution_count": 33,
     "metadata": {},
     "output_type": "execute_result"
    }
   ],
   "source": [
    "def outer():\n",
    "    x=1\n",
    "    def inner():\n",
    "        print(x)\n",
    "    return inner\n",
    "foo_8=outer()\n",
    "foo_8.__closure__"
   ]
  },
  {
   "cell_type": "code",
   "execution_count": 36,
   "metadata": {
    "collapsed": false,
    "deletable": true,
    "editable": true
   },
   "outputs": [
    {
     "name": "stdout",
     "output_type": "stream",
     "text": [
      "1\n"
     ]
    }
   ],
   "source": [
    "def outer2(x):\n",
    "    def inner():\n",
    "        print(x)\n",
    "    return inner\n",
    "print1=outer2(1)\n",
    "print2=outer2(2)\n",
    "\n",
    "print1()"
   ]
  },
  {
   "cell_type": "code",
   "execution_count": 37,
   "metadata": {
    "collapsed": false,
    "deletable": true,
    "editable": true
   },
   "outputs": [
    {
     "name": "stdout",
     "output_type": "stream",
     "text": [
      "2\n"
     ]
    }
   ],
   "source": [
    "print2()"
   ]
  },
  {
   "cell_type": "markdown",
   "metadata": {
    "deletable": true,
    "editable": true
   },
   "source": [
    "## 9. 装饰器"
   ]
  },
  {
   "cell_type": "code",
   "execution_count": 38,
   "metadata": {
    "collapsed": false,
    "deletable": true,
    "editable": true
   },
   "outputs": [
    {
     "name": "stdout",
     "output_type": "stream",
     "text": [
      "before some func\n"
     ]
    },
    {
     "data": {
      "text/plain": [
       "2"
      ]
     },
     "execution_count": 38,
     "metadata": {},
     "output_type": "execute_result"
    }
   ],
   "source": [
    "def outer_9(some_func):\n",
    "    def inner():\n",
    "        print('before some func')\n",
    "        ret=some_func()\n",
    "        return ret+1\n",
    "    return inner\n",
    "def foo_9():\n",
    "    return 1\n",
    "\n",
    "decorated=outer_9(foo_9)\n",
    "decorated()\n"
   ]
  },
  {
   "cell_type": "code",
   "execution_count": 39,
   "metadata": {
    "collapsed": false,
    "deletable": true,
    "editable": true
   },
   "outputs": [
    {
     "data": {
      "text/plain": [
       "<function __main__.outer_9.<locals>.inner>"
      ]
     },
     "execution_count": 39,
     "metadata": {},
     "output_type": "execute_result"
    }
   ],
   "source": [
    "decorated"
   ]
  },
  {
   "cell_type": "code",
   "execution_count": 41,
   "metadata": {
    "collapsed": false,
    "deletable": true,
    "editable": true
   },
   "outputs": [
    {
     "data": {
      "text/plain": [
       "<function __main__.outer_9.<locals>.inner>"
      ]
     },
     "execution_count": 41,
     "metadata": {},
     "output_type": "execute_result"
    }
   ],
   "source": [
    "foo_9_1=outer_9(foo_9)\n",
    "foo_9_1"
   ]
  },
  {
   "cell_type": "code",
   "execution_count": 2,
   "metadata": {
    "collapsed": false,
    "deletable": true,
    "editable": true
   },
   "outputs": [
    {
     "data": {
      "text/plain": [
       "Coord:{'x': 400, 'y': 400}"
      ]
     },
     "execution_count": 2,
     "metadata": {},
     "output_type": "execute_result"
    }
   ],
   "source": [
    "class coord():\n",
    "    def __init__(self,x,y):\n",
    "        self.x=x\n",
    "        self.y=y\n",
    "    def __repr__(self):\n",
    "        return 'Coord:'+str(self.__dict__)\n",
    "def add(a,b):\n",
    "    return coord(a.x+b.x,a.y+b.y)\n",
    "def sub(a,b):\n",
    "    return coord(a.x-b.x,a.y-b.y)\n",
    "\n",
    "def wrapper(func):\n",
    "    def checker(a,b):\n",
    "        if a.x<0 or a.y<0:\n",
    "            a=coord(a.x if a.x>0 else 0,a.y if a.y>0 else 0)\n",
    "        if b.x<0 or b.y<0:\n",
    "            b=coord(b.x if b.x>0 else 0, b.y if b.y>0 else 0)\n",
    "        ret=func(a,b)\n",
    "        if ret.x<0 or ret.y<0:\n",
    "            ret=coord(ret.x if ret.x>0 else 0, ret.y if ret.y>0 else 0)\n",
    "        return ret\n",
    "    return checker\n",
    "add=wrapper(add)\n",
    "sub=wrapper(sub)\n",
    "\n",
    "one=coord(100,200)\n",
    "two=coord(300,200)\n",
    "add(one,two)\n"
   ]
  },
  {
   "cell_type": "code",
   "execution_count": 3,
   "metadata": {
    "collapsed": false
   },
   "outputs": [
    {
     "data": {
      "text/plain": [
       "<function __main__.wrapper.<locals>.checker>"
      ]
     },
     "execution_count": 3,
     "metadata": {},
     "output_type": "execute_result"
    }
   ],
   "source": [
    "add"
   ]
  },
  {
   "cell_type": "markdown",
   "metadata": {},
   "source": [
    "## 10. @作为装饰器"
   ]
  },
  {
   "cell_type": "code",
   "execution_count": 5,
   "metadata": {
    "collapsed": false
   },
   "outputs": [
    {
     "data": {
      "text/plain": [
       "4"
      ]
     },
     "execution_count": 5,
     "metadata": {},
     "output_type": "execute_result"
    }
   ],
   "source": [
    "def wrapper(func):\n",
    "    def ret(a,b):\n",
    "        return func(a,b)+1\n",
    "        \n",
    "    return ret\n",
    "\n",
    "@wrapper\n",
    "def add(a,b):\n",
    "    return a+b\n",
    "\n",
    "add(1,2)"
   ]
  },
  {
   "cell_type": "markdown",
   "metadata": {},
   "source": [
    "## 11. 参数传递"
   ]
  },
  {
   "cell_type": "code",
   "execution_count": 7,
   "metadata": {
    "collapsed": false
   },
   "outputs": [
    {
     "name": "stdout",
     "output_type": "stream",
     "text": [
      "()\n"
     ]
    }
   ],
   "source": [
    "def one(*args):\n",
    "    print(args)\n",
    "one()"
   ]
  },
  {
   "cell_type": "code",
   "execution_count": 8,
   "metadata": {
    "collapsed": false
   },
   "outputs": [
    {
     "name": "stdout",
     "output_type": "stream",
     "text": [
      "(1, 2, 3, 4)\n"
     ]
    }
   ],
   "source": [
    "one(1,2,3,4)"
   ]
  },
  {
   "cell_type": "code",
   "execution_count": 9,
   "metadata": {
    "collapsed": false
   },
   "outputs": [
    {
     "name": "stdout",
     "output_type": "stream",
     "text": [
      "a b ('c',)\n"
     ]
    }
   ],
   "source": [
    "def two(a,b,*c):\n",
    "    print(a,b,c)\n",
    "two('a','b','c')"
   ]
  },
  {
   "cell_type": "code",
   "execution_count": 11,
   "metadata": {
    "collapsed": false
   },
   "outputs": [
    {
     "data": {
      "text/plain": [
       "6"
      ]
     },
     "execution_count": 11,
     "metadata": {},
     "output_type": "execute_result"
    }
   ],
   "source": [
    "def add(*x):\n",
    "    return sum(x)\n",
    "lst=[1,2,3]\n",
    "add(*lst)\n"
   ]
  },
  {
   "cell_type": "code",
   "execution_count": 16,
   "metadata": {
    "collapsed": false
   },
   "outputs": [
    {
     "name": "stdout",
     "output_type": "stream",
     "text": [
      "6\n"
     ]
    }
   ],
   "source": [
    "def foo_11(**args):\n",
    "    print(sum(args.values()))\n",
    "dic={\n",
    "    'a':1,\n",
    "    'b':2,\n",
    "    'c':3\n",
    "}\n",
    "foo_11(**dic)"
   ]
  },
  {
   "cell_type": "markdown",
   "metadata": {},
   "source": [
    "## 12. 更普遍的装饰器"
   ]
  },
  {
   "cell_type": "code",
   "execution_count": 18,
   "metadata": {
    "collapsed": false
   },
   "outputs": [
    {
     "name": "stdout",
     "output_type": "stream",
     "text": [
      "Args were: (5, 4)\n",
      "{}\n"
     ]
    },
    {
     "data": {
      "text/plain": [
       "20"
      ]
     },
     "execution_count": 18,
     "metadata": {},
     "output_type": "execute_result"
    }
   ],
   "source": [
    "def logger(func):\n",
    "    def inner(*args, **kwargs):\n",
    "        print(\"Args were: {}\\n{}\".format(args,kwargs))\n",
    "        return func(*args,**kwargs)\n",
    "    return inner\n",
    "@logger\n",
    "def foo_12(x,y=1):\n",
    "    return x*y\n",
    "@logger\n",
    "def foo_12_2():\n",
    "    return 2\n",
    "foo_12(5,4)"
   ]
  },
  {
   "cell_type": "code",
   "execution_count": 19,
   "metadata": {
    "collapsed": false
   },
   "outputs": [
    {
     "name": "stdout",
     "output_type": "stream",
     "text": [
      "Args were: (1,)\n",
      "{}\n"
     ]
    },
    {
     "data": {
      "text/plain": [
       "1"
      ]
     },
     "execution_count": 19,
     "metadata": {},
     "output_type": "execute_result"
    }
   ],
   "source": [
    "foo_12(1,)"
   ]
  },
  {
   "cell_type": "code",
   "execution_count": 21,
   "metadata": {
    "collapsed": false
   },
   "outputs": [
    {
     "name": "stdout",
     "output_type": "stream",
     "text": [
      "Args were: ()\n",
      "{}\n"
     ]
    },
    {
     "data": {
      "text/plain": [
       "2"
      ]
     },
     "execution_count": 21,
     "metadata": {},
     "output_type": "execute_result"
    }
   ],
   "source": [
    "foo_12_2()"
   ]
  },
  {
   "cell_type": "code",
   "execution_count": null,
   "metadata": {
    "collapsed": true
   },
   "outputs": [],
   "source": []
  }
 ],
 "metadata": {
  "kernelspec": {
   "display_name": "Python 3",
   "language": "python",
   "name": "python3"
  },
  "language_info": {
   "codemirror_mode": {
    "name": "ipython",
    "version": 3
   },
   "file_extension": ".py",
   "mimetype": "text/x-python",
   "name": "python",
   "nbconvert_exporter": "python",
   "pygments_lexer": "ipython3",
   "version": "3.5.2"
  }
 },
 "nbformat": 4,
 "nbformat_minor": 2
}
