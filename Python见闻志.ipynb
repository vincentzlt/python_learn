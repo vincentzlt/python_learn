{
 "cells": [
  {
   "cell_type": "markdown",
   "metadata": {},
   "source": [
    "# 【翻译】12步理解Python Decorators"
   ]
  },
  {
   "cell_type": "markdown",
   "metadata": {},
   "source": [
    "## 1. 函数"
   ]
  },
  {
   "cell_type": "code",
   "execution_count": 1,
   "metadata": {
    "collapsed": false
   },
   "outputs": [
    {
     "data": {
      "text/plain": [
       "1"
      ]
     },
     "execution_count": 1,
     "metadata": {},
     "output_type": "execute_result"
    }
   ],
   "source": [
    "def foo():\n",
    "    return 1\n",
    "foo()"
   ]
  },
  {
   "cell_type": "markdown",
   "metadata": {},
   "source": [
    "## 2. 作用范围"
   ]
  },
  {
   "cell_type": "code",
   "execution_count": 3,
   "metadata": {
    "collapsed": false
   },
   "outputs": [
    {
     "name": "stdout",
     "output_type": "stream",
     "text": [
      "{'In': ['',\n",
      "        'def foo():\\n    return 1\\nfoo()',\n",
      "        \"a_string='This is a global variable.'\\n\"\n",
      "        'def foo_1():\\n'\n",
      "        '    print(locals())\\n'\n",
      "        'print(globals())',\n",
      "        'from pprint import pprint\\n'\n",
      "        \"a_string='This is a global variable.'\\n\"\n",
      "        'def foo_1():\\n'\n",
      "        '    print(locals())\\n'\n",
      "        'pprint(globals())'],\n",
      " 'Out': {1: 1},\n",
      " '_': 1,\n",
      " '_1': 1,\n",
      " '__': '',\n",
      " '___': '',\n",
      " '__builtin__': <module 'builtins' (built-in)>,\n",
      " '__builtins__': <module 'builtins' (built-in)>,\n",
      " '__doc__': 'Automatically created module for IPython interactive environment',\n",
      " '__loader__': None,\n",
      " '__name__': '__main__',\n",
      " '__package__': None,\n",
      " '__spec__': None,\n",
      " '_dh': ['E:\\\\Projects\\\\python_learn'],\n",
      " '_i': \"a_string='This is a global variable.'\\n\"\n",
      "       'def foo_1():\\n'\n",
      "       '    print(locals())\\n'\n",
      "       'print(globals())',\n",
      " '_i1': 'def foo():\\n    return 1\\nfoo()',\n",
      " '_i2': \"a_string='This is a global variable.'\\n\"\n",
      "        'def foo_1():\\n'\n",
      "        '    print(locals())\\n'\n",
      "        'print(globals())',\n",
      " '_i3': 'from pprint import pprint\\n'\n",
      "        \"a_string='This is a global variable.'\\n\"\n",
      "        'def foo_1():\\n'\n",
      "        '    print(locals())\\n'\n",
      "        'pprint(globals())',\n",
      " '_ih': ['',\n",
      "         'def foo():\\n    return 1\\nfoo()',\n",
      "         \"a_string='This is a global variable.'\\n\"\n",
      "         'def foo_1():\\n'\n",
      "         '    print(locals())\\n'\n",
      "         'print(globals())',\n",
      "         'from pprint import pprint\\n'\n",
      "         \"a_string='This is a global variable.'\\n\"\n",
      "         'def foo_1():\\n'\n",
      "         '    print(locals())\\n'\n",
      "         'pprint(globals())'],\n",
      " '_ii': 'def foo():\\n    return 1\\nfoo()',\n",
      " '_iii': '',\n",
      " '_oh': {1: 1},\n",
      " '_sh': <module 'IPython.core.shadowns' from 'c:\\\\users\\\\longtu\\\\appdata\\\\local\\\\programs\\\\python\\\\python35-32\\\\lib\\\\site-packages\\\\IPython\\\\core\\\\shadowns.py'>,\n",
      " 'a_string': 'This is a global variable.',\n",
      " 'exit': <IPython.core.autocall.ZMQExitAutocall object at 0x03F5FF70>,\n",
      " 'foo': <function foo at 0x05021978>,\n",
      " 'foo_1': <function foo_1 at 0x05021C48>,\n",
      " 'get_ipython': <bound method InteractiveShell.get_ipython of <ipykernel.zmqshell.ZMQInteractiveShell object at 0x03F5F890>>,\n",
      " 'pprint': <function pprint at 0x02FFE5D0>,\n",
      " 'quit': <IPython.core.autocall.ZMQExitAutocall object at 0x03F5FF70>}\n"
     ]
    }
   ],
   "source": [
    "from pprint import pprint\n",
    "a_string='This is a global variable.'\n",
    "def foo_1():\n",
    "    print(locals())\n",
    "pprint(globals())"
   ]
  },
  {
   "cell_type": "code",
   "execution_count": 4,
   "metadata": {
    "collapsed": false
   },
   "outputs": [
    {
     "name": "stdout",
     "output_type": "stream",
     "text": [
      "{}\n"
     ]
    }
   ],
   "source": [
    "foo_1()"
   ]
  },
  {
   "cell_type": "markdown",
   "metadata": {},
   "source": [
    "## 3. 变量解析规则"
   ]
  },
  {
   "cell_type": "markdown",
   "metadata": {},
   "source": [
    "1. 本地\n",
    "2. 相邻\n",
    "3. 全局"
   ]
  },
  {
   "cell_type": "code",
   "execution_count": 5,
   "metadata": {
    "collapsed": false
   },
   "outputs": [
    {
     "name": "stdout",
     "output_type": "stream",
     "text": [
      "This is a global variable.\n"
     ]
    }
   ],
   "source": [
    "def foo_3():\n",
    "    print(a_string)\n",
    "foo_3()"
   ]
  },
  {
   "cell_type": "markdown",
   "metadata": {},
   "source": [
    "本地函数不能给全局变量赋值，所赋值的变量是本地变量，且覆盖全局变量。"
   ]
  },
  {
   "cell_type": "code",
   "execution_count": 7,
   "metadata": {
    "collapsed": false
   },
   "outputs": [
    {
     "name": "stdout",
     "output_type": "stream",
     "text": [
      "{'a_string': 'test'}\n",
      "This is a global variable.\n"
     ]
    }
   ],
   "source": [
    "def foo_3_1():\n",
    "    a_string='test'\n",
    "    print(locals())\n",
    "\n",
    "foo_3_1()\n",
    "print(a_string)"
   ]
  },
  {
   "cell_type": "markdown",
   "metadata": {},
   "source": [
    "## 4. 变量生命周期"
   ]
  },
  {
   "cell_type": "code",
   "execution_count": 8,
   "metadata": {
    "collapsed": false
   },
   "outputs": [
    {
     "name": "stdout",
     "output_type": "stream",
     "text": [
      "{'x': 1}\n"
     ]
    }
   ],
   "source": [
    "def foo_4(x):\n",
    "    print(locals())\n",
    "foo_4(1)"
   ]
  },
  {
   "cell_type": "markdown",
   "metadata": {},
   "source": [
    "## 5. 函数的参数"
   ]
  },
  {
   "cell_type": "markdown",
   "metadata": {},
   "source": [
    "各种传递参数的方法。"
   ]
  },
  {
   "cell_type": "code",
   "execution_count": 9,
   "metadata": {
    "collapsed": false
   },
   "outputs": [
    {
     "name": "stdout",
     "output_type": "stream",
     "text": [
      "2\n",
      "3\n"
     ]
    },
    {
     "ename": "TypeError",
     "evalue": "foo_5() missing 1 required positional argument: 'x'",
     "output_type": "error",
     "traceback": [
      "\u001b[0;31m---------------------------------------------------------------------------\u001b[0m",
      "\u001b[0;31mTypeError\u001b[0m                                 Traceback (most recent call last)",
      "\u001b[0;32m<ipython-input-9-d6f111b50ebf>\u001b[0m in \u001b[0;36m<module>\u001b[0;34m()\u001b[0m\n\u001b[1;32m      3\u001b[0m \u001b[0mprint\u001b[0m\u001b[1;33m(\u001b[0m\u001b[0mfoo_5\u001b[0m\u001b[1;33m(\u001b[0m\u001b[1;36m3\u001b[0m\u001b[1;33m,\u001b[0m\u001b[1;36m1\u001b[0m\u001b[1;33m)\u001b[0m\u001b[1;33m)\u001b[0m\u001b[1;33m\u001b[0m\u001b[0m\n\u001b[1;32m      4\u001b[0m \u001b[0mprint\u001b[0m\u001b[1;33m(\u001b[0m\u001b[0mfoo_5\u001b[0m\u001b[1;33m(\u001b[0m\u001b[1;36m3\u001b[0m\u001b[1;33m)\u001b[0m\u001b[1;33m)\u001b[0m\u001b[1;33m\u001b[0m\u001b[0m\n\u001b[0;32m----> 5\u001b[0;31m \u001b[0mprint\u001b[0m\u001b[1;33m(\u001b[0m\u001b[0mfoo_5\u001b[0m\u001b[1;33m(\u001b[0m\u001b[1;33m)\u001b[0m\u001b[1;33m)\u001b[0m\u001b[1;33m\u001b[0m\u001b[0m\n\u001b[0m\u001b[1;32m      6\u001b[0m \u001b[0mprint\u001b[0m\u001b[1;33m(\u001b[0m\u001b[0mfoo_5\u001b[0m\u001b[1;33m(\u001b[0m\u001b[0my\u001b[0m\u001b[1;33m=\u001b[0m\u001b[1;36m1\u001b[0m\u001b[1;33m,\u001b[0m\u001b[0mx\u001b[0m\u001b[1;33m=\u001b[0m\u001b[1;36m3\u001b[0m\u001b[1;33m)\u001b[0m\u001b[1;33m)\u001b[0m\u001b[1;33m\u001b[0m\u001b[0m\n",
      "\u001b[0;31mTypeError\u001b[0m: foo_5() missing 1 required positional argument: 'x'"
     ]
    }
   ],
   "source": [
    "def foo_5(x,y=0):\n",
    "    return x-y\n",
    "print(foo_5(3,1))\n",
    "print(foo_5(3))\n",
    "print(foo_5())\n",
    "print(foo_5(y=1,x=3))"
   ]
  },
  {
   "cell_type": "code",
   "execution_count": null,
   "metadata": {
    "collapsed": true
   },
   "outputs": [],
   "source": []
  }
 ],
 "metadata": {
  "kernelspec": {
   "display_name": "Python 3",
   "language": "python",
   "name": "python3"
  },
  "language_info": {
   "codemirror_mode": {
    "name": "ipython",
    "version": 3
   },
   "file_extension": ".py",
   "mimetype": "text/x-python",
   "name": "python",
   "nbconvert_exporter": "python",
   "pygments_lexer": "ipython3",
   "version": "3.5.2"
  }
 },
 "nbformat": 4,
 "nbformat_minor": 2
}
